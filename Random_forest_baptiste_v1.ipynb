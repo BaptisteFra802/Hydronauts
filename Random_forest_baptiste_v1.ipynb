{
  "nbformat": 4,
  "nbformat_minor": 0,
  "metadata": {
    "colab": {
      "provenance": [],
      "authorship_tag": "ABX9TyM1F/zuUY/wObwEJYhVo/Hm",
      "include_colab_link": true
    },
    "kernelspec": {
      "name": "python3",
      "display_name": "Python 3"
    },
    "language_info": {
      "name": "python"
    }
  },
  "cells": [
    {
      "cell_type": "markdown",
      "metadata": {
        "id": "view-in-github",
        "colab_type": "text"
      },
      "source": [
        "<a href=\"https://colab.research.google.com/github/BaptisteFra802/Hydronauts/blob/master/Random_forest_baptiste_v1.ipynb\" target=\"_parent\"><img src=\"https://colab.research.google.com/assets/colab-badge.svg\" alt=\"Open In Colab\"/></a>"
      ]
    },
    {
      "cell_type": "code",
      "source": [
        "import pandas as pd\n",
        "\n",
        "# Charger le fichier CSV\n",
        "file_path = \"sensor_raw.csv\"\n",
        "df = pd.read_csv(file_path)\n",
        "\n",
        "# Afficher les premières lignes pour examiner la structure des données\n",
        "df.head()\n",
        "\n",
        "# Vérifier les valeurs manquantes\n",
        "missing_values = df.isnull().sum()\n",
        "\n",
        "# Vérifier les types de données\n",
        "data_types = df.dtypes\n",
        "\n",
        "missing_values, data_types\n",
        "\n",
        "from sklearn.model_selection import train_test_split\n",
        "from sklearn.preprocessing import StandardScaler\n",
        "\n",
        "# Séparer les caractéristiques (X) et la cible (y)\n",
        "X = df.drop(columns=[\"Target(Class)\"])\n",
        "y = df[\"Target(Class)\"]\n",
        "\n",
        "# Normalisation des caractéristiques\n",
        "scaler = StandardScaler()\n",
        "X_scaled = scaler.fit_transform(X)\n",
        "\n",
        "# Division en ensemble d'entraînement (80%) et de test (20%)\n",
        "X_train, X_test, y_train, y_test = train_test_split(X_scaled, y, test_size=0.2, random_state=42, stratify=y)\n",
        "\n",
        "# Vérifier la taille des ensembles\n",
        "X_train.shape, X_test.shape\n",
        "\n",
        "\n",
        "from sklearn.ensemble import RandomForestClassifier\n",
        "from sklearn.metrics import accuracy_score, classification_report\n",
        "\n",
        "# Initialiser et entraîner le modèle Random Forest\n",
        "rf_model = RandomForestClassifier(n_estimators=100, random_state=42)\n",
        "rf_model.fit(X_train, y_train)\n",
        "\n",
        "# Prédictions sur l'ensemble de test\n",
        "y_pred = rf_model.predict(X_test)\n",
        "\n",
        "# Évaluation du modèle\n",
        "accuracy = accuracy_score(y_test, y_pred)\n",
        "report = classification_report(y_test, y_pred)\n",
        "\n",
        "print(\"Accuracy:\", accuracy)\n",
        "print(\"Classification Report:\\n\", report)\n"
      ],
      "metadata": {
        "colab": {
          "base_uri": "https://localhost:8080/"
        },
        "id": "l5Iz9K1BKaV0",
        "outputId": "c271ca20-0935-4ca8-b63b-2a7a153aaabc"
      },
      "execution_count": 13,
      "outputs": [
        {
          "output_type": "stream",
          "name": "stdout",
          "text": [
            "Accuracy: 0.6860986547085202\n",
            "Classification Report:\n",
            "               precision    recall  f1-score   support\n",
            "\n",
            "           1       0.67      0.52      0.58        50\n",
            "           2       0.69      0.62      0.65        58\n",
            "           3       0.61      0.81      0.70        70\n",
            "           4       0.87      0.76      0.81        45\n",
            "\n",
            "    accuracy                           0.69       223\n",
            "   macro avg       0.71      0.68      0.69       223\n",
            "weighted avg       0.70      0.69      0.68       223\n",
            "\n"
          ]
        }
      ]
    },
    {
      "cell_type": "code",
      "source": [
        "from sklearn.svm import SVC\n",
        "from sklearn.metrics import accuracy_score, classification_report\n",
        "\n",
        "# Initialiser et entraîner le modèle SVM avec noyau RBF\n",
        "svm_model = SVC(kernel=\"rbf\", C=1, gamma=\"scale\", random_state=42)\n",
        "svm_model.fit(X_train, y_train)\n",
        "\n",
        "# Prédictions sur l'ensemble de test\n",
        "y_pred_svm = svm_model.predict(X_test)\n",
        "\n",
        "# Évaluation du modèle\n",
        "accuracy_svm = accuracy_score(y_test, y_pred_svm)\n",
        "report_svm = classification_report(y_test, y_pred_svm)\n",
        "\n",
        "print(\"Accuracy:\", accuracy_svm)\n",
        "print(\"Classification Report:\\n\", report_svm)"
      ],
      "metadata": {
        "colab": {
          "base_uri": "https://localhost:8080/"
        },
        "outputId": "f28ba664-3241-4458-fe16-908cdeb148b0",
        "id": "UXsWHLPwlda3"
      },
      "execution_count": 15,
      "outputs": [
        {
          "output_type": "stream",
          "name": "stdout",
          "text": [
            "Accuracy: 0.6412556053811659\n",
            "Classification Report:\n",
            "               precision    recall  f1-score   support\n",
            "\n",
            "           1       0.73      0.44      0.55        50\n",
            "           2       0.85      0.40      0.54        58\n",
            "           3       0.50      0.91      0.64        70\n",
            "           4       0.92      0.76      0.83        45\n",
            "\n",
            "    accuracy                           0.64       223\n",
            "   macro avg       0.75      0.63      0.64       223\n",
            "weighted avg       0.73      0.64      0.63       223\n",
            "\n"
          ]
        }
      ]
    },
    {
      "cell_type": "code",
      "source": [
        "import pandas as pd\n",
        "\n",
        "# Charger le fichier CSV\n",
        "file_path = \"features_14.csv\"\n",
        "df = pd.read_csv(file_path)\n",
        "\n",
        "# Afficher les premières lignes pour examiner la structure des données\n",
        "df.head()\n",
        "\n",
        "# Vérifier les valeurs manquantes\n",
        "missing_values = df.isnull().sum()\n",
        "\n",
        "# Vérifier les types de données\n",
        "data_types = df.dtypes\n",
        "\n",
        "missing_values, data_types\n",
        "\n",
        "from sklearn.model_selection import train_test_split\n",
        "from sklearn.preprocessing import StandardScaler\n",
        "\n",
        "# Séparer les caractéristiques (X) et la cible (y)\n",
        "X = df.drop(columns=[\"Target\"])\n",
        "y = df[\"Target\"]\n",
        "\n",
        "# Normalisation des caractéristiques\n",
        "scaler = StandardScaler()\n",
        "X_scaled = scaler.fit_transform(X)\n",
        "\n",
        "# Division en ensemble d'entraînement (80%) et de test (20%)\n",
        "X_train, X_test, y_train, y_test = train_test_split(X_scaled, y, test_size=0.2, random_state=42, stratify=y)\n",
        "\n",
        "# Vérifier la taille des ensembles\n",
        "X_train.shape, X_test.shape\n",
        "\n",
        "\n",
        "from sklearn.ensemble import RandomForestClassifier\n",
        "from sklearn.metrics import accuracy_score, classification_report\n",
        "\n",
        "# Initialiser et entraîner le modèle Random Forest\n",
        "rf_model = RandomForestClassifier(n_estimators=100, random_state=42)\n",
        "rf_model.fit(X_train, y_train)\n",
        "\n",
        "# Prédictions sur l'ensemble de test\n",
        "y_pred = rf_model.predict(X_test)\n",
        "\n",
        "# Évaluation du modèle\n",
        "accuracy = accuracy_score(y_test, y_pred)\n",
        "report = classification_report(y_test, y_pred)\n",
        "\n",
        "print(\"Accuracy:\", accuracy)\n",
        "print(\"Classification Report:\\n\", report)\n"
      ],
      "metadata": {
        "colab": {
          "base_uri": "https://localhost:8080/"
        },
        "outputId": "9663e91d-5ce5-49fa-f877-a3ca3685837f",
        "id": "A8xx0o1CMB_1"
      },
      "execution_count": 16,
      "outputs": [
        {
          "output_type": "stream",
          "name": "stdout",
          "text": [
            "Accuracy: 1.0\n",
            "Classification Report:\n",
            "               precision    recall  f1-score   support\n",
            "\n",
            "           1       1.00      1.00      1.00        50\n",
            "           2       1.00      1.00      1.00        57\n",
            "           3       1.00      1.00      1.00        70\n",
            "           4       1.00      1.00      1.00        44\n",
            "\n",
            "    accuracy                           1.00       221\n",
            "   macro avg       1.00      1.00      1.00       221\n",
            "weighted avg       1.00      1.00      1.00       221\n",
            "\n"
          ]
        }
      ]
    },
    {
      "cell_type": "code",
      "source": [
        "from sklearn.tree import export_graphviz\n",
        "from IPython.display import Image\n",
        "import graphviz\n",
        "\n",
        "rf = RandomForestClassifier()\n",
        "rf.fit(X_train, y_train)\n",
        "\n",
        "for i in range(3):\n",
        "    tree = rf.estimators_[i]\n",
        "    dot_data = export_graphviz(tree,\n",
        "                               feature_names=X_train.columns,\n",
        "                               filled=True,\n",
        "                               max_depth=2,\n",
        "                               impurity=False,\n",
        "                               proportion=True)\n",
        "    graph = graphviz.Source(dot_data)\n",
        "    display(graph)"
      ],
      "metadata": {
        "id": "vw9jixv1Nz8N"
      },
      "execution_count": null,
      "outputs": []
    },
    {
      "cell_type": "code",
      "source": [
        "from sklearn.svm import SVC\n",
        "from sklearn.metrics import accuracy_score, classification_report\n",
        "\n",
        "# Initialiser et entraîner le modèle SVM avec noyau RBF\n",
        "svm_model = SVC(kernel=\"rbf\", C=1, gamma=\"scale\", random_state=42)\n",
        "svm_model.fit(X_train, y_train)\n",
        "\n",
        "# Prédictions sur l'ensemble de test\n",
        "y_pred_svm = svm_model.predict(X_test)\n",
        "\n",
        "# Évaluation du modèle\n",
        "accuracy_svm = accuracy_score(y_test, y_pred_svm)\n",
        "report_svm = classification_report(y_test, y_pred_svm)\n",
        "\n",
        "print(\"Accuracy:\", accuracy_svm)\n",
        "print(\"Classification Report:\\n\", report_svm)"
      ],
      "metadata": {
        "colab": {
          "base_uri": "https://localhost:8080/"
        },
        "id": "Gqy9EAPPhvPn",
        "outputId": "0ba27347-05d4-4b4b-a553-d63285d6d6bd"
      },
      "execution_count": 17,
      "outputs": [
        {
          "output_type": "stream",
          "name": "stdout",
          "text": [
            "Accuracy: 0.995475113122172\n",
            "Classification Report:\n",
            "               precision    recall  f1-score   support\n",
            "\n",
            "           1       1.00      1.00      1.00        50\n",
            "           2       1.00      0.98      0.99        57\n",
            "           3       0.99      1.00      0.99        70\n",
            "           4       1.00      1.00      1.00        44\n",
            "\n",
            "    accuracy                           1.00       221\n",
            "   macro avg       1.00      1.00      1.00       221\n",
            "weighted avg       1.00      1.00      1.00       221\n",
            "\n"
          ]
        }
      ]
    }
  ]
}